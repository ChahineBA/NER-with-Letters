{
  "nbformat": 4,
  "nbformat_minor": 0,
  "metadata": {
    "colab": {
      "provenance": [],
      "authorship_tag": "ABX9TyNvxRPXenhAU1JwM1YqYBWN",
      "include_colab_link": true
    },
    "kernelspec": {
      "name": "python3",
      "display_name": "Python 3"
    },
    "language_info": {
      "name": "python"
    }
  },
  "cells": [
    {
      "cell_type": "markdown",
      "metadata": {
        "id": "view-in-github",
        "colab_type": "text"
      },
      "source": [
        "<a href=\"https://colab.research.google.com/github/ChahineBA/NER-with-Letters/blob/main/NER.ipynb\" target=\"_parent\"><img src=\"https://colab.research.google.com/assets/colab-badge.svg\" alt=\"Open In Colab\"/></a>"
      ]
    },
    {
      "cell_type": "code",
      "source": [
        "!apt-get install -y tesseract-ocr\n"
      ],
      "metadata": {
        "colab": {
          "base_uri": "https://localhost:8080/"
        },
        "id": "LzMFwuEgaAgS",
        "outputId": "d41df8e6-1e39-4600-8584-f8ee30219597"
      },
      "execution_count": null,
      "outputs": [
        {
          "output_type": "stream",
          "name": "stdout",
          "text": [
            "Reading package lists... Done\n",
            "Building dependency tree... Done\n",
            "Reading state information... Done\n",
            "The following additional packages will be installed:\n",
            "  tesseract-ocr-eng tesseract-ocr-osd\n",
            "The following NEW packages will be installed:\n",
            "  tesseract-ocr tesseract-ocr-eng tesseract-ocr-osd\n",
            "0 upgraded, 3 newly installed, 0 to remove and 45 not upgraded.\n",
            "Need to get 4,816 kB of archives.\n",
            "After this operation, 15.6 MB of additional disk space will be used.\n",
            "Get:1 http://archive.ubuntu.com/ubuntu jammy/universe amd64 tesseract-ocr-eng all 1:4.00~git30-7274cfa-1.1 [1,591 kB]\n",
            "Get:2 http://archive.ubuntu.com/ubuntu jammy/universe amd64 tesseract-ocr-osd all 1:4.00~git30-7274cfa-1.1 [2,990 kB]\n",
            "Get:3 http://archive.ubuntu.com/ubuntu jammy/universe amd64 tesseract-ocr amd64 4.1.1-2.1build1 [236 kB]\n",
            "Fetched 4,816 kB in 0s (24.0 MB/s)\n",
            "Selecting previously unselected package tesseract-ocr-eng.\n",
            "(Reading database ... 121943 files and directories currently installed.)\n",
            "Preparing to unpack .../tesseract-ocr-eng_1%3a4.00~git30-7274cfa-1.1_all.deb ...\n",
            "Unpacking tesseract-ocr-eng (1:4.00~git30-7274cfa-1.1) ...\n",
            "Selecting previously unselected package tesseract-ocr-osd.\n",
            "Preparing to unpack .../tesseract-ocr-osd_1%3a4.00~git30-7274cfa-1.1_all.deb ...\n",
            "Unpacking tesseract-ocr-osd (1:4.00~git30-7274cfa-1.1) ...\n",
            "Selecting previously unselected package tesseract-ocr.\n",
            "Preparing to unpack .../tesseract-ocr_4.1.1-2.1build1_amd64.deb ...\n",
            "Unpacking tesseract-ocr (4.1.1-2.1build1) ...\n",
            "Setting up tesseract-ocr-eng (1:4.00~git30-7274cfa-1.1) ...\n",
            "Setting up tesseract-ocr-osd (1:4.00~git30-7274cfa-1.1) ...\n",
            "Setting up tesseract-ocr (4.1.1-2.1build1) ...\n",
            "Processing triggers for man-db (2.10.2-1) ...\n"
          ]
        }
      ]
    },
    {
      "cell_type": "code",
      "source": [
        "!apt-get install -y poppler-utils\n"
      ],
      "metadata": {
        "colab": {
          "base_uri": "https://localhost:8080/"
        },
        "id": "cCWk2QAmZnl-",
        "outputId": "984f7e3a-8e0d-4a00-c6c1-4e937a9555eb"
      },
      "execution_count": null,
      "outputs": [
        {
          "output_type": "stream",
          "name": "stdout",
          "text": [
            "Reading package lists... Done\n",
            "Building dependency tree... Done\n",
            "Reading state information... Done\n",
            "The following NEW packages will be installed:\n",
            "  poppler-utils\n",
            "0 upgraded, 1 newly installed, 0 to remove and 45 not upgraded.\n",
            "Need to get 186 kB of archives.\n",
            "After this operation, 696 kB of additional disk space will be used.\n",
            "Get:1 http://archive.ubuntu.com/ubuntu jammy-updates/main amd64 poppler-utils amd64 22.02.0-2ubuntu0.4 [186 kB]\n",
            "Fetched 186 kB in 0s (1,937 kB/s)\n",
            "Selecting previously unselected package poppler-utils.\n",
            "(Reading database ... 121913 files and directories currently installed.)\n",
            "Preparing to unpack .../poppler-utils_22.02.0-2ubuntu0.4_amd64.deb ...\n",
            "Unpacking poppler-utils (22.02.0-2ubuntu0.4) ...\n",
            "Setting up poppler-utils (22.02.0-2ubuntu0.4) ...\n",
            "Processing triggers for man-db (2.10.2-1) ...\n"
          ]
        }
      ]
    },
    {
      "cell_type": "code",
      "source": [
        "!pip install pytesseract Pillow pdf2image"
      ],
      "metadata": {
        "colab": {
          "base_uri": "https://localhost:8080/"
        },
        "id": "U8Sdg5H0Z3CF",
        "outputId": "6c7daffd-5005-4550-baf1-8056c9f0d8e7"
      },
      "execution_count": null,
      "outputs": [
        {
          "output_type": "stream",
          "name": "stdout",
          "text": [
            "Requirement already satisfied: pytesseract in /usr/local/lib/python3.10/dist-packages (0.3.10)\n",
            "Requirement already satisfied: Pillow in /usr/local/lib/python3.10/dist-packages (9.4.0)\n",
            "Requirement already satisfied: pdf2image in /usr/local/lib/python3.10/dist-packages (1.17.0)\n",
            "Requirement already satisfied: packaging>=21.3 in /usr/local/lib/python3.10/dist-packages (from pytesseract) (24.1)\n"
          ]
        }
      ]
    },
    {
      "cell_type": "code",
      "source": [
        "# Step 2: Install the French language data for Tesseract\n",
        "!apt-get install -y tesseract-ocr-fra"
      ],
      "metadata": {
        "colab": {
          "base_uri": "https://localhost:8080/"
        },
        "id": "q1Usxkp9aQTv",
        "outputId": "8537d272-cf07-4f7f-8e04-1cf0ea47c716"
      },
      "execution_count": null,
      "outputs": [
        {
          "output_type": "stream",
          "name": "stdout",
          "text": [
            "Reading package lists... Done\n",
            "Building dependency tree... Done\n",
            "Reading state information... Done\n",
            "The following NEW packages will be installed:\n",
            "  tesseract-ocr-fra\n",
            "0 upgraded, 1 newly installed, 0 to remove and 45 not upgraded.\n",
            "Need to get 527 kB of archives.\n",
            "After this operation, 1,145 kB of additional disk space will be used.\n",
            "Get:1 http://archive.ubuntu.com/ubuntu jammy/universe amd64 tesseract-ocr-fra all 1:4.00~git30-7274cfa-1.1 [527 kB]\n",
            "Fetched 527 kB in 0s (4,468 kB/s)\n",
            "Selecting previously unselected package tesseract-ocr-fra.\n",
            "(Reading database ... 121990 files and directories currently installed.)\n",
            "Preparing to unpack .../tesseract-ocr-fra_1%3a4.00~git30-7274cfa-1.1_all.deb ...\n",
            "Unpacking tesseract-ocr-fra (1:4.00~git30-7274cfa-1.1) ...\n",
            "Setting up tesseract-ocr-fra (1:4.00~git30-7274cfa-1.1) ...\n"
          ]
        }
      ]
    },
    {
      "cell_type": "code",
      "source": [
        "import pytesseract\n",
        "from pdf2image import convert_from_path\n",
        "from PIL import Image\n",
        "\n",
        "def extract_text_from_pdf_with_ocr(pdf_path):\n",
        "    text = \"\"\n",
        "    images = convert_from_path(pdf_path)\n",
        "    for page_num, img in enumerate(images):\n",
        "        page_text = pytesseract.image_to_string(img, lang='fra')\n",
        "        if page_text:\n",
        "            text += page_text\n",
        "        else:\n",
        "            print(f\"No text extracted from page {page_num + 1}\")\n",
        "    return text\n",
        "\n",
        "# Replace with the absolute path to your downloaded PDF on your desktop\n",
        "pdf_path = '/content/SKM_C22723051617080_0002.pdf'  # Adjust the path as per your file\n",
        "\n",
        "# Extract text from the PDF\n",
        "text = extract_text_from_pdf_with_ocr(pdf_path)\n",
        "\n",
        "# Debugging: Check if text extraction works\n",
        "print(\"Extracted Text:\")\n",
        "print(text)  # Print first 500 characters of the extracted text for verification\n"
      ],
      "metadata": {
        "colab": {
          "base_uri": "https://localhost:8080/"
        },
        "id": "0Tz6fyaHY6Vc",
        "outputId": "eb746201-9c70-4e71-9227-0dc4197d1226"
      },
      "execution_count": null,
      "outputs": [
        {
          "output_type": "stream",
          "name": "stdout",
          "text": [
            "Extracted Text:\n",
            " \n",
            "\n",
            "ARRETE\n",
            "Nomination d’un fonctionnaire par voie d'intégration directe\n",
            "Mme BOUARD Flora\n",
            "Agent social principal 2è\"° classe\n",
            "\n",
            " \n",
            "\n",
            " \n",
            "\n",
            "Le Président du CCAS, EHPAD Prat An Aod, Ludovic LASSAGNE\n",
            "\n",
            "Vu le code général des collectivités territoriales,\n",
            "\n",
            "Vu le code général de le fonction publique notamment ses articles L327-7 et L511-3,\n",
            "\n",
            "Vu le décret n°92-849 du 28/08/1992 portant statut particulier du cadre d'emplois des agents sociaux territoriaux,\n",
            "Vu le décret n° 2016-596 du 12 mai 2016 relatif à l'organisation des carrières des fonctionnaires de catégorie C de la\n",
            "fonction publique territoriale\n",
            "\n",
            "Vu le décret n° 2016-604 du 12 mai 2016 fixant les différentes échelles de rémunération pour les fonctionnaires de\n",
            "catégorie C de la fonction publique territoriale\n",
            "\n",
            "Vu la délibération en date du 28 mars 2023 créant un emploi d'agent social à temps complet,\n",
            "\n",
            "Vu le tableau des effectifs de la collectivité,\n",
            "\n",
            "Vu la déclaration de vacance d'emploi auprès du Centre de Gestion,\n",
            "\n",
            "Vu l'arrêté en date du 14 mai 2022 fixant la dernière situation de Mme BOUARD, adjoint technique territorial principal\n",
            "2°\" classe, échelon 6, indice brut 404, indice majoré 365, sans ancienneté,\n",
            "\n",
            "ARRETE\n",
            "\n",
            "Article 1 : Mme BOUARD Flora est nommée par voie d'intégration directe en qualité d'agent social territorial principal\n",
            "2ème classe, à temps complet, à compter du 1° mai 2023,\n",
            "\n",
            "Article 2 : Mme BOUARD Flora est classée au 6°\" échelon de son grade, indice brut 404, indice majoré 365, avec une\n",
            "ancienneté de 11 mois 17 jours,\n",
            "\n",
            "Article 3 : Le Directeur Général est chargé de l'exécution du présent arrêté qui sera transmis au représentant de l'Etat\n",
            "et notifié à l'agent.\n",
            "\n",
            "Ampliation adressée au Président du Centre de Gestion du Finistère, au Comptable de la collectivité\n",
            "\n",
            "Fait à LE FAOU, le 25 avril 2023\n",
            "Ludovic LASSAGNE, Président du CCAS\n",
            "\n",
            "Le Président,\n",
            "\n",
            "- certifie sous sa responsabilité le caractère exécutoire de cet\n",
            "acte,\n",
            "\n",
            "- informe que le présent arrêté peut faire l’objet d’un recours\n",
            "pour excès de pouvoir devant le Tribunal Administratif de\n",
            "Rennes (par voie postale au 3 contour de la Motte - 35000\n",
            "RENNES ou par voie dématérialisée via l'application «\n",
            "Télérecours citoyens » sur le site www.telerecours.fr) dans un\n",
            "délai de deux mois à compter de la présente notification.\n",
            "\n",
            " \n",
            "\n",
            "Notification faite le\n",
            "Signature de l’agent :\n",
            "\f\n"
          ]
        }
      ]
    },
    {
      "cell_type": "code",
      "source": [
        "from transformers import AutoTokenizer, AutoModelForTokenClassification\n",
        "\n",
        "tokenizer = AutoTokenizer.from_pretrained(\"Jean-Baptiste/camembert-ner-with-dates\")\n",
        "model = AutoModelForTokenClassification.from_pretrained(\"Jean-Baptiste/camembert-ner-with-dates\")\n",
        "\n",
        "\n",
        "##### Process text sample (from wikipedia)\n",
        "\n",
        "from transformers import pipeline\n",
        "\n",
        "nlp = pipeline('ner', model=model, tokenizer=tokenizer, aggregation_strategy=\"simple\")\n",
        "entities = nlp(text)"
      ],
      "metadata": {
        "id": "bLOxl6cxouIT"
      },
      "execution_count": null,
      "outputs": []
    },
    {
      "cell_type": "code",
      "source": [
        "entities"
      ],
      "metadata": {
        "colab": {
          "base_uri": "https://localhost:8080/"
        },
        "id": "msU988z9qors",
        "outputId": "e53a894e-15ed-46e0-a22e-8b5779341429"
      },
      "execution_count": null,
      "outputs": [
        {
          "output_type": "execute_result",
          "data": {
            "text/plain": [
              "[{'entity_group': 'PER',\n",
              "  'score': 0.8979226,\n",
              "  'word': 'Mme BOUARD Flora',\n",
              "  'start': 70,\n",
              "  'end': 87},\n",
              " {'entity_group': 'LOC',\n",
              "  'score': 0.7744142,\n",
              "  'word': 'CCAS',\n",
              "  'start': 145,\n",
              "  'end': 150},\n",
              " {'entity_group': 'LOC',\n",
              "  'score': 0.9251585,\n",
              "  'word': 'EHPAD Prat An Aod',\n",
              "  'start': 151,\n",
              "  'end': 169},\n",
              " {'entity_group': 'PER',\n",
              "  'score': 0.99491775,\n",
              "  'word': 'Ludovic LASSAGNE',\n",
              "  'start': 170,\n",
              "  'end': 187},\n",
              " {'entity_group': 'DATE',\n",
              "  'score': 0.9240129,\n",
              "  'word': '28/08/1992',\n",
              "  'start': 351,\n",
              "  'end': 362},\n",
              " {'entity_group': 'DATE',\n",
              "  'score': 0.9911168,\n",
              "  'word': '12 mai 2016',\n",
              "  'start': 469,\n",
              "  'end': 481},\n",
              " {'entity_group': 'DATE',\n",
              "  'score': 0.9917727,\n",
              "  'word': '12 mai 2016',\n",
              "  'start': 620,\n",
              "  'end': 632},\n",
              " {'entity_group': 'DATE',\n",
              "  'score': 0.99585944,\n",
              "  'word': '28 mars 2023',\n",
              "  'start': 787,\n",
              "  'end': 800},\n",
              " {'entity_group': 'LOC',\n",
              "  'score': 0.5190986,\n",
              "  'word': 'Centre de Gestion',\n",
              "  'start': 947,\n",
              "  'end': 965},\n",
              " {'entity_group': 'DATE',\n",
              "  'score': 0.9961397,\n",
              "  'word': '14 mai 2022',\n",
              "  'start': 990,\n",
              "  'end': 1002},\n",
              " {'entity_group': 'PER',\n",
              "  'score': 0.8575526,\n",
              "  'word': 'Mme BOUARD',\n",
              "  'start': 1034,\n",
              "  'end': 1045},\n",
              " {'entity_group': 'PER',\n",
              "  'score': 0.9863761,\n",
              "  'word': 'BOUARD Flora',\n",
              "  'start': 1187,\n",
              "  'end': 1200},\n",
              " {'entity_group': 'DATE',\n",
              "  'score': 0.9927979,\n",
              "  'word': '1° mai 2023',\n",
              "  'start': 1333,\n",
              "  'end': 1345},\n",
              " {'entity_group': 'PER',\n",
              "  'score': 0.9879901,\n",
              "  'word': 'BOUARD Flora',\n",
              "  'start': 1363,\n",
              "  'end': 1376},\n",
              " {'entity_group': 'DATE',\n",
              "  'score': 0.98920834,\n",
              "  'word': '11 mois 17 jours',\n",
              "  'start': 1476,\n",
              "  'end': 1493},\n",
              " {'entity_group': 'LOC',\n",
              "  'score': 0.95588195,\n",
              "  'word': 'l',\n",
              "  'start': 1609,\n",
              "  'end': 1611},\n",
              " {'entity_group': 'LOC',\n",
              "  'score': 0.95719236,\n",
              "  'word': 'Etat',\n",
              "  'start': 1612,\n",
              "  'end': 1616},\n",
              " {'entity_group': 'LOC',\n",
              "  'score': 0.60496086,\n",
              "  'word': 'Président',\n",
              "  'start': 1662,\n",
              "  'end': 1672},\n",
              " {'entity_group': 'LOC',\n",
              "  'score': 0.93796796,\n",
              "  'word': 'Centre de Gestion du Finistère',\n",
              "  'start': 1675,\n",
              "  'end': 1706},\n",
              " {'entity_group': 'LOC',\n",
              "  'score': 0.38979825,\n",
              "  'word': 'Comp',\n",
              "  'start': 1710,\n",
              "  'end': 1715},\n",
              " {'entity_group': 'LOC',\n",
              "  'score': 0.9892197,\n",
              "  'word': 'LE FAOU',\n",
              "  'start': 1747,\n",
              "  'end': 1755},\n",
              " {'entity_group': 'DATE',\n",
              "  'score': 0.98962605,\n",
              "  'word': 'le 25 avril 2023',\n",
              "  'start': 1756,\n",
              "  'end': 1773},\n",
              " {'entity_group': 'PER',\n",
              "  'score': 0.99371624,\n",
              "  'word': 'Ludovic LASSAGNE',\n",
              "  'start': 1773,\n",
              "  'end': 1790},\n",
              " {'entity_group': 'LOC',\n",
              "  'score': 0.47599155,\n",
              "  'word': 'CCAS',\n",
              "  'start': 1804,\n",
              "  'end': 1809},\n",
              " {'entity_group': 'LOC',\n",
              "  'score': 0.92344576,\n",
              "  'word': 'Tribunal Administratif de Rennes',\n",
              "  'start': 1993,\n",
              "  'end': 2026},\n",
              " {'entity_group': 'LOC',\n",
              "  'score': 0.94458055,\n",
              "  'word': 'contour de la Motte',\n",
              "  'start': 2049,\n",
              "  'end': 2069},\n",
              " {'entity_group': 'LOC',\n",
              "  'score': 0.948798,\n",
              "  'word': '35000 RENNES',\n",
              "  'start': 2071,\n",
              "  'end': 2084},\n",
              " {'entity_group': 'MISC',\n",
              "  'score': 0.70952153,\n",
              "  'word': 'Télérecours',\n",
              "  'start': 2131,\n",
              "  'end': 2143},\n",
              " {'entity_group': 'DATE',\n",
              "  'score': 0.96201056,\n",
              "  'word': 'deux mois à',\n",
              "  'start': 2203,\n",
              "  'end': 2215}]"
            ]
          },
          "metadata": {},
          "execution_count": 9
        }
      ]
    },
    {
      "cell_type": "code",
      "source": [
        "persons = []\n",
        "dates = []\n",
        "Locations = []\n",
        "for entity in entities:\n",
        "    if entity['entity_group'] == 'PER':\n",
        "        persons.append(entity['word'])\n",
        "    elif entity['entity_group'] == 'DATE':\n",
        "        dates.append(entity['word'])\n",
        "    elif entity['entity_group'] == 'LOC':\n",
        "      Locations.append(entity['word'])\n",
        "\n",
        "print(\"Persons:\", persons)\n",
        "print(\"Dates:\", dates)\n",
        "print(\"Locations:\",Locations)"
      ],
      "metadata": {
        "colab": {
          "base_uri": "https://localhost:8080/"
        },
        "id": "4IBL1OkYq6aY",
        "outputId": "857dc377-af1d-47b6-997e-2124a7d67d86"
      },
      "execution_count": null,
      "outputs": [
        {
          "output_type": "stream",
          "name": "stdout",
          "text": [
            "Persons: ['Mme BOUARD Flora', 'Ludovic LASSAGNE', 'Mme BOUARD', 'BOUARD Flora', 'BOUARD Flora', 'Ludovic LASSAGNE']\n",
            "Dates: ['28/08/1992', '12 mai 2016', '12 mai 2016', '28 mars 2023', '14 mai 2022', '1° mai 2023', '11 mois 17 jours', 'le 25 avril 2023', 'deux mois à']\n",
            "Locations: ['CCAS', 'EHPAD Prat An Aod', 'Centre de Gestion', 'l', 'Etat', 'Président', 'Centre de Gestion du Finistère', 'Comp', 'LE FAOU', 'CCAS', 'Tribunal Administratif de Rennes', 'contour de la Motte', '35000 RENNES']\n"
          ]
        }
      ]
    }
  ]
}